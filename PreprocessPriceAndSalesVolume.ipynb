{
  "cells": [
    {
      "cell_type": "code",
      "execution_count": 1,
      "id": "1d0ca185-7189-4bf9-96df-5946de6d3857",
      "metadata": {
        "tags": [],
        "id": "1d0ca185-7189-4bf9-96df-5946de6d3857"
      },
      "outputs": [],
      "source": [
        "import pandas as pd"
      ]
    },
    {
      "cell_type": "markdown",
      "source": [
        "Import sales and prices data:"
      ],
      "metadata": {
        "id": "qEG2k-oUgkRR"
      },
      "id": "qEG2k-oUgkRR"
    },
    {
      "cell_type": "code",
      "source": [
        "df = pd.read_csv('raw_data/Clustering_ProductPrices.csv')"
      ],
      "metadata": {
        "id": "MFr81CW9tHko"
      },
      "id": "MFr81CW9tHko",
      "execution_count": 2,
      "outputs": []
    },
    {
      "cell_type": "code",
      "execution_count": 3,
      "id": "f18d32dc-6cd1-418a-b79b-230e12286dbc",
      "metadata": {
        "tags": [],
        "colab": {
          "base_uri": "https://localhost:8080/"
        },
        "id": "f18d32dc-6cd1-418a-b79b-230e12286dbc",
        "outputId": "8a6a1e9f-3486-4520-a3a0-10b2cf74b505"
      },
      "outputs": [
        {
          "output_type": "execute_result",
          "data": {
            "text/plain": [
              "1"
            ]
          },
          "metadata": {},
          "execution_count": 3
        }
      ],
      "source": [
        "#sanity to check if there is one row per date\n",
        "\n",
        "df.groupby(['ASIN','MARKETPLACE','BRAND_NAME','DATE']).size().max()"
      ]
    },
    {
      "cell_type": "code",
      "execution_count": 4,
      "id": "25782466-fb37-4269-8ce3-ac60eeea0fc7",
      "metadata": {
        "tags": [],
        "colab": {
          "base_uri": "https://localhost:8080/"
        },
        "id": "25782466-fb37-4269-8ce3-ac60eeea0fc7",
        "outputId": "0518040b-58e7-4da9-86f1-23b627ee0b06"
      },
      "outputs": [
        {
          "output_type": "execute_result",
          "data": {
            "text/plain": [
              "ASIN                   object\n",
              "MARKETPLACE            object\n",
              "REGION                 object\n",
              "BRAND_NAME             object\n",
              "DATE                   object\n",
              "UNITS_SOLD_TOTAL      float64\n",
              "ORGANIC_UNITS_SOLD    float64\n",
              "SALE_PRICE_EUR        float64\n",
              "dtype: object"
            ]
          },
          "metadata": {},
          "execution_count": 4
        }
      ],
      "source": [
        "df.dtypes"
      ]
    },
    {
      "cell_type": "code",
      "execution_count": 5,
      "id": "8259a386-49fe-46d6-a55f-54b50905b75e",
      "metadata": {
        "tags": [],
        "colab": {
          "base_uri": "https://localhost:8080/"
        },
        "id": "8259a386-49fe-46d6-a55f-54b50905b75e",
        "outputId": "09cb84bd-e40f-4ad6-c9d4-ce7d992fff17"
      },
      "outputs": [
        {
          "output_type": "execute_result",
          "data": {
            "text/plain": [
              "(649277, 8)"
            ]
          },
          "metadata": {},
          "execution_count": 5
        }
      ],
      "source": [
        "df.shape"
      ]
    },
    {
      "cell_type": "code",
      "execution_count": 6,
      "id": "292f9d6c-a418-4f31-ac29-7d743584913a",
      "metadata": {
        "tags": [],
        "colab": {
          "base_uri": "https://localhost:8080/"
        },
        "id": "292f9d6c-a418-4f31-ac29-7d743584913a",
        "outputId": "46ac14f5-95ec-4f30-9769-f2440e870044"
      },
      "outputs": [
        {
          "output_type": "execute_result",
          "data": {
            "text/plain": [
              "(82547, 8)"
            ]
          },
          "metadata": {},
          "execution_count": 6
        }
      ],
      "source": [
        "df.dropna().shape"
      ]
    },
    {
      "cell_type": "code",
      "execution_count": 7,
      "id": "a1297771-3d7f-4b3c-a6ca-033947908d87",
      "metadata": {
        "tags": [],
        "colab": {
          "base_uri": "https://localhost:8080/"
        },
        "id": "a1297771-3d7f-4b3c-a6ca-033947908d87",
        "outputId": "b52bcc3e-ad46-4f95-8cc3-03370c9462ce"
      },
      "outputs": [
        {
          "output_type": "execute_result",
          "data": {
            "text/plain": [
              "ASIN                     460\n",
              "MARKETPLACE                0\n",
              "REGION                     0\n",
              "BRAND_NAME                 0\n",
              "DATE                       0\n",
              "UNITS_SOLD_TOTAL      496846\n",
              "ORGANIC_UNITS_SOLD    496846\n",
              "SALE_PRICE_EUR        509468\n",
              "dtype: int64"
            ]
          },
          "metadata": {},
          "execution_count": 7
        }
      ],
      "source": [
        "df.isna().sum()"
      ]
    },
    {
      "cell_type": "code",
      "execution_count": 8,
      "id": "b228bf55-3c02-428c-b7dc-5331225b296a",
      "metadata": {
        "tags": [],
        "id": "b228bf55-3c02-428c-b7dc-5331225b296a"
      },
      "outputs": [],
      "source": [
        "df = df.dropna()"
      ]
    },
    {
      "cell_type": "markdown",
      "source": [
        "\n",
        "---\n",
        "Correlation"
      ],
      "metadata": {
        "id": "nDb6lTrYr7BT"
      },
      "id": "nDb6lTrYr7BT"
    },
    {
      "cell_type": "code",
      "execution_count": null,
      "id": "ac7874a0-a65b-47f5-8ff6-aee15313a3cf",
      "metadata": {
        "tags": [],
        "id": "ac7874a0-a65b-47f5-8ff6-aee15313a3cf"
      },
      "outputs": [],
      "source": [
        "import numpy as np\n",
        "from scipy.stats import pearsonr\n",
        "\n",
        "corr = lambda x,y: pearsonr(np.array(x), np.array(y))[0]\n",
        "\n",
        "#on ASIN/MARKET/BRAND level aggregate units sold and sales price to get list of values and count of values per list.\n",
        "gr_data = df.sort_values('DATE').groupby(['ASIN','MARKETPLACE','BRAND_NAME']).agg({\"ORGANIC_UNITS_SOLD\":[lambda x: list(x),lambda x: len(list(x))],\n",
        "                                                                                \"SALE_PRICE_EUR\":[lambda x: list(x),lambda x: len(list(x))]}).reset_index()\n",
        "\n",
        "\n",
        "gr_data.columns = ['ASIN','MARKETPLACE','BRAND_NAME','ORGANIC_UNITS_SOLD_list','ORGANIC_UNITS_SOLD_count',\n",
        "                 'SALE_PRICE_EUR_list','SALE_PRICE_EUR_count']\n",
        "\n",
        "gr_data_refined = gr_data[gr_data['ORGANIC_UNITS_SOLD_count'] > 2] #get entries with more than 2 units sold\n",
        "gr_data_refined['correlation_coeff'] = gr_data_refined.apply(lambda x: corr(x['ORGANIC_UNITS_SOLD_list'],x['SALE_PRICE_EUR_list']),axis=1).fillna(0) #get corr coef\n",
        "\n",
        "subset = gr_data_refined[['ASIN','MARKETPLACE','BRAND_NAME','correlation_coeff']]\n",
        "subset.to_csv('preprocessed_data/CorrelationCoefficient.csv',index=False)\n",
        "\n"
      ]
    },
    {
      "cell_type": "code",
      "execution_count": 11,
      "id": "18b902de-24d1-4d24-a3f0-6ac8bc78b4f2",
      "metadata": {
        "tags": [],
        "id": "18b902de-24d1-4d24-a3f0-6ac8bc78b4f2"
      },
      "outputs": [],
      "source": [
        "#sanity to check if there is one row per date\n",
        "\n",
        "avg_df = df.dropna().groupby(['ASIN','MARKETPLACE','BRAND_NAME']).agg({\"ORGANIC_UNITS_SOLD\":'mean',\n",
        "                                                     \"SALE_PRICE_EUR\":'mean'}).reset_index().sort_values('SALE_PRICE_EUR')\n",
        "\n",
        "\n",
        "avg_df.to_csv('preprocessed_data/AvgPriceAndSalesVolume.csv',index=False)\n"
      ]
    },
    {
      "cell_type": "markdown",
      "source": [
        "---\n",
        "Regression"
      ],
      "metadata": {
        "id": "eKXP-spJsKFR"
      },
      "id": "eKXP-spJsKFR"
    },
    {
      "cell_type": "code",
      "execution_count": 12,
      "id": "e216ad60-6e65-4868-aff3-2d5cef4d9967",
      "metadata": {
        "tags": [],
        "id": "e216ad60-6e65-4868-aff3-2d5cef4d9967",
        "colab": {
          "base_uri": "https://localhost:8080/"
        },
        "outputId": "aa29897f-fde7-4f00-cbd9-94fdfefab994"
      },
      "outputs": [
        {
          "output_type": "execute_result",
          "data": {
            "text/plain": [
              "[3.3000000000000003, 5.5]"
            ]
          },
          "metadata": {},
          "execution_count": 12
        }
      ],
      "source": [
        "from sklearn.linear_model import LinearRegression\n",
        "\n",
        "def regression(x,y):\n",
        "    lr = LinearRegression()\n",
        "    data = pd.DataFrame([x,y]).T\n",
        "    data.columns = ['x','y']\n",
        "    lr.fit(data[['x']],data['y'])\n",
        "\n",
        "    return [lr.coef_[0],lr.intercept_]\n",
        "\n",
        "regression([1,2,3,4,5],[11,11,11,22,22])"
      ]
    },
    {
      "cell_type": "code",
      "execution_count": null,
      "id": "ccedde3c-e954-4dd3-95ba-2ad994fb82ff",
      "metadata": {
        "tags": [],
        "id": "ccedde3c-e954-4dd3-95ba-2ad994fb82ff"
      },
      "outputs": [],
      "source": [
        "gr_data = df.sort_values('DATE').groupby(['ASIN','MARKETPLACE','BRAND_NAME']).agg({\"ORGANIC_UNITS_SOLD\":[lambda x: list(x),lambda x: len(list(x))],\n",
        "                                                                                \"SALE_PRICE_EUR\":[lambda x: list(x),lambda x: len(list(x))]}).reset_index()\n",
        "\n",
        "\n",
        "gr_data.columns = ['ASIN','MARKETPLACE','BRAND_NAME','ORGANIC_UNITS_SOLD_list','ORGANIC_UNITS_SOLD_count',\n",
        "                 'SALE_PRICE_EUR_list','SALE_PRICE_EUR_count']\n",
        "\n",
        "gr_data_refined = gr_data[gr_data['ORGANIC_UNITS_SOLD_count'] > 2]\n",
        "gr_data_refined['regression_vals'] = gr_data_refined.apply(lambda x: regression(x['ORGANIC_UNITS_SOLD_list'],x['SALE_PRICE_EUR_list']),axis=1)\n",
        "\n",
        "subset = gr_data_refined[['ASIN','MARKETPLACE','BRAND_NAME','regression_vals']]\n",
        "subset.to_csv('preprocessed_data/Regression_vals.csv',index=False)"
      ]
    }
  ],
  "metadata": {
    "kernelspec": {
      "display_name": "conda_python3",
      "language": "python",
      "name": "conda_python3"
    },
    "language_info": {
      "codemirror_mode": {
        "name": "ipython",
        "version": 3
      },
      "file_extension": ".py",
      "mimetype": "text/x-python",
      "name": "python",
      "nbconvert_exporter": "python",
      "pygments_lexer": "ipython3",
      "version": "3.10.12"
    },
    "colab": {
      "provenance": []
    }
  },
  "nbformat": 4,
  "nbformat_minor": 5
}